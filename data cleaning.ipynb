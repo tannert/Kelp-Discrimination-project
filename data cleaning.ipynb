{
 "cells": [
  {
   "cell_type": "markdown",
   "metadata": {},
   "source": [
    "# Kelp Project - Data Cleaning"
   ]
  },
  {
   "cell_type": "markdown",
   "metadata": {},
   "source": [
    "### Tanner Thompson - Math 404 - 3/24/16"
   ]
  },
  {
   "cell_type": "code",
   "execution_count": 1,
   "metadata": {},
   "outputs": [],
   "source": [
    "%matplotlib inline\n",
    "import spectral as spy\n",
    "import spectral.io.envi as envi\n",
    "import numpy as np\n",
    "import os\n",
    "import subprocess\n",
    "from matplotlib import pyplot as plt\n",
    "import time"
   ]
  },
  {
   "cell_type": "markdown",
   "metadata": {},
   "source": [
    "## Data Cleaning!"
   ]
  },
  {
   "cell_type": "markdown",
   "metadata": {},
   "source": [
    "First, we need to define a method to convert from image coordinates to earth coordinates."
   ]
  },
  {
   "cell_type": "code",
   "execution_count": 4,
   "metadata": {
    "collapsed": true
   },
   "outputs": [],
   "source": [
    "def get_coords(img,x,y):\n",
    "    \"\"\"\n",
    "    Accepts:\n",
    "        img: a SpyFile object\n",
    "        x, y: the pixel coordinates (zero-based indexing)\n",
    "        \n",
    "    Returns:\n",
    "        e, n: the UTM coordinates\n",
    "        z: the UTM zone\n",
    "        \n",
    "    Note: the code now accounts for rotation!\n",
    "    \"\"\"\n",
    "    info = img.metadata['map info']\n",
    "    \n",
    "    # check the metadata to make sure the format is supported \n",
    "    if info[0] != 'UTM':\n",
    "        raise ValueError('Coordinate generation is only built for UTM, not ' + info[0])\n",
    "    if info[1] != '1':\n",
    "        raise ValueError('this should be 1')\n",
    "    if info[2] != '1':\n",
    "        raise ValueError('this should be 1')\n",
    "    if not info[-1].startswith('rotation'):\n",
    "        raise ValueError('No rotation angle found')\n",
    "    \n",
    "    # name some variables to make the code more readable\n",
    "    easting = float(info[3])\n",
    "    northing = float(info[4])\n",
    "    x_pixel_size = float(info[5])\n",
    "    y_pixel_size = float(info[6])\n",
    "    utm_zone = int(info[7])\n",
    "    exec(images[i].metadata['map info'][-1]) # rotation = <rotation angle>\n",
    "    rotation *= np.pi/180 # convert rotation angle to radians\n",
    "    \n",
    "    # do some trigonometry\n",
    "    # account for the rotation of the image\n",
    "    new_easting = easting + x*x_pixel_size*np.cos(rotation) + y*y_pixel_size*np.sin(rotation)\n",
    "    new_northing = northing - y*y_pixel_size*np.cos(rotation) + x*x_pixel_size*np.sin(rotation)\n",
    "    return new_easting, new_northing, utm_zone"
   ]
  },
  {
   "cell_type": "markdown",
   "metadata": {},
   "source": [
    "The AVIRIS data comes in a .tar.gz file, which needs to be unzipped.  This code unzips any images that haven't already been unzipped."
   ]
  },
  {
   "cell_type": "code",
   "execution_count": null,
   "metadata": {},
   "outputs": [],
   "source": [
    "if 'unpacked_tars' not in os.listdir('.'):\n",
    "    os.makedirs('unpacked_tars')\n",
    "\n",
    "unpacked_flight_names = map(lambda s: s[:s.index('_')],os.listdir('./unpacked_tars/'))\n",
    "packed_flight_names = map(lambda s: s[:s.index('_')],os.listdir('./raw_AVIRIS_files/'))\n",
    "\n",
    "# ONLY WORKS ON LINUX\n",
    "for flight_name in packed_flight_names:\n",
    "    if flight_name not in unpacked_flight_names:\n",
    "        print 'unpacking', flight_name\n",
    "        subprocess.call('tar -xvzf ./raw_AVIRIS_files/' + flight_name + '_refl.tar.gz -C ./unpacked_tars/', shell = True)\n",
    "        unpacked_flight_names.append(flight_name)"
   ]
  },
  {
   "cell_type": "markdown",
   "metadata": {},
   "source": [
    "Finally, we're ready to do some data processing.  To open the AVIRIS image files, we'll use a package called Spectral Python, which was built for opening and visualizing hyperspectral images.\n",
    "\n",
    "This code opens each image file as a SpyFile object, instead of just a numpy array, because of the size of the file.  This class allows you to read one band or one pixel at a time to avoid loading the entire image (sometimes over 10GB) into the memory at once.\n",
    "\n",
    "After opening the images, we read in certain important bands. These will be used in identifying the kelp and later in visualization.\n",
    "\n",
    "The brightness values in the data are dimensionless, as they are the ratio of reflected radiation intensity to received radiation intensity.  Since this gives only values between 0 and 1, the final values have been scaled by a factor of 10000.\n",
    "\n",
    "We identify the kelp through several different criteria.  First, we calculate the NDVI (Normalized Difference Vegetation Index). High NDVI values can indicate vegetation, but can also indicate a pixel with a zero in the red band (560 nm). To correct for that, we rule out any pixels with a reflectance value less than 40 in the SWIR 1 band (Shortwave Infrared, 1102 nm).  This eliminates virtually all ocean pixels, since water reflects almost no SWIR radiation. Next, we rule out any pixels with a reflectance value greater than 600 in the SWIR 1 band, which eliminates all but the darkest vegetation on land.  Finally, we throw out any remaining pixels with a green reflectance value of less than 60, which gets rid of the rest of the land vegetation.  Thus, we are left with ocean vegetation, which is exclusively kelp.\n",
    "\n",
    "Once the pixels have been identified, their reflectance vectors are stored in master_pixel_list."
   ]
  },
  {
   "cell_type": "code",
   "execution_count": 7,
   "metadata": {},
   "outputs": [
    {
     "name": "stdout",
     "output_type": "stream",
     "text": [
      "reading in f130410t01p00r09_refl\n",
      "grabbing bands\n",
      "grabbing pixels\n",
      "grabbing coordinates\n"
     ]
    },
    {
     "name": "stderr",
     "output_type": "stream",
     "text": [
      "/home/tannert/anaconda2/lib/python2.7/site-packages/ipykernel/__main__.py:40: RuntimeWarning: invalid value encountered in divide\n",
      "/home/tannert/anaconda2/lib/python2.7/site-packages/ipykernel/__main__.py:42: RuntimeWarning: divide by zero encountered in divide\n",
      "/home/tannert/anaconda2/lib/python2.7/site-packages/ipykernel/__main__.py:42: RuntimeWarning: invalid value encountered in divide\n",
      "/home/tannert/anaconda2/lib/python2.7/site-packages/ipykernel/__main__.py:51: RuntimeWarning: invalid value encountered in less\n"
     ]
    },
    {
     "name": "stdout",
     "output_type": "stream",
     "text": [
      "reading in f130410t01p00r10_refl\n",
      "grabbing bands\n",
      "grabbing pixels\n",
      "grabbing coordinates\n",
      "reading in f130411t01p00r12_refl\n",
      "grabbing bands\n",
      "grabbing pixels\n",
      "grabbing coordinates\n",
      "reading in f130606t01p00r15_refl\n",
      "grabbing bands\n",
      "grabbing pixels\n",
      "grabbing coordinates\n",
      "reading in f130607t01p00r15_refl\n",
      "grabbing bands\n",
      "grabbing pixels\n",
      "grabbing coordinates\n",
      "reading in f141124t01p00r17_refl\n",
      "grabbing bands\n"
     ]
    },
    {
     "name": "stderr",
     "output_type": "stream",
     "text": [
      "/home/tannert/anaconda2/lib/python2.7/site-packages/ipykernel/__main__.py:40: RuntimeWarning: divide by zero encountered in divide\n"
     ]
    },
    {
     "name": "stdout",
     "output_type": "stream",
     "text": [
      "grabbing pixels\n",
      "grabbing coordinates\n",
      "reading in f160617t01p00r15_refl_v1d\n",
      "grabbing bands\n",
      "grabbing pixels\n",
      "grabbing coordinates\n",
      "reading in f160620t01p00r15_refl_v1d\n",
      "grabbing bands\n",
      "grabbing pixels\n",
      "grabbing coordinates\n",
      "done\n",
      "took 121.784326 seconds\n"
     ]
    }
   ],
   "source": [
    "folder_names = sorted(os.listdir('./unpacked_tars/'))\n",
    "\n",
    "# skip any necessary files - for example, if they're too big \n",
    "\n",
    "flights_to_skip = ['f130410t01p00r11']\n",
    "for flight_to_skip in flights_to_skip:\n",
    "    for folder_name in folder_names:\n",
    "        if folder_name.startswith(flight_to_skip):\n",
    "            folder_names.remove(folder_name)\n",
    "    \n",
    "    \n",
    "master_pixel_list = []\n",
    "master_coord_list = []\n",
    "images = []\n",
    "time1 = time.time()\n",
    "for i, folder_name in enumerate(folder_names):\n",
    "\n",
    "    # reads in the image\n",
    "    print 'reading in', folder_name\n",
    "    for suffix in ['_corr_v1', 'rdn_refl_img_corr', '_corr_v1d_img']:\n",
    "        try:\n",
    "            flight_name = folder_name[:folder_name.index('_')]\n",
    "            filename = './unpacked_tars/' + folder_name + '/' + flight_name + suffix\n",
    "            images.append(envi.open(filename + '.hdr'))\n",
    "        except spy.io.spyfile.FileNotFoundError as e:\n",
    "            #print e\n",
    "            pass\n",
    "        \n",
    "    # some of the images are scaled differently (the 2016 ones)\n",
    "    multiplier = 10000 if folder_name.endswith('v1d') else 1\n",
    "        \n",
    "    # grabs all the necessary bands and calculates NDVI (normalized difference vegetation index)\n",
    "    print 'grabbing bands'\n",
    "    kelpgreen = images[i].read_band(23).astype(float) * multiplier\n",
    "    red = images[i].read_band(33).astype(float) * multiplier\n",
    "    nir = images[i].read_band(39).astype(float) * multiplier\n",
    "    nir2 = images[i].read_band(59).astype(float) * multiplier\n",
    "    swir1 = images[i].read_band(78).astype(float) * multiplier\n",
    "    swir2 = images[i].read_band(137).astype(float) * multiplier\n",
    "    NDVI = ((nir - red)/(nir + red))\n",
    "    NDVI[np.isnan(NDVI)] = -1\n",
    "    ratio = nir2/nir\n",
    "\n",
    "    # here's the magic\n",
    "    # uses the following criteria to pick the kelp out\n",
    "\n",
    "    # NDVI == 1 grabs only the most vegetated areas (but also inadverently grabs places where red just is zero)\n",
    "    # swir1 > 40 gets rid of random pixels in the ocean that have red == 0\n",
    "    # swir1 < 600 gets rid of some vegatation on land\n",
    "    # kelpgreen > 60 gets rid of some vegetated pixels on land\n",
    "    kelp = (NDVI >.6) & (40 < swir1) & (swir1 < 600) & (kelpgreen > 60) & (ratio < .8)\n",
    "\n",
    "    # converts the boolean array to an array of kelp locations (in image coordinates)\n",
    "    print 'grabbing pixels'\n",
    "    kelp_image_coords = np.argwhere(kelp)\n",
    "    \n",
    "    # iterates through all True values in kelp and pulls the brightness vectors at each pixel\n",
    "    # makes an ndarray out of them\n",
    "    pixels = np.array([images[i].read_pixel(*coordpair) for coordpair in kelp_image_coords])\n",
    "    \n",
    "    print 'grabbing coordinates'\n",
    "    # converts image coordinates to UTM coordinates\n",
    "    kelp_UTM_coords = np.array(map(lambda c: get_coords(images[i],*c), kelp_image_coords))\n",
    "    \n",
    "    \n",
    "    #adds the newly acquired pixel list and coord list to the master pixel list and coord list\n",
    "    if len(pixels) > 0:\n",
    "        master_pixel_list.append(pixels)\n",
    "        master_coord_list.append(kelp_UTM_coords)\n",
    "    else:\n",
    "        print 'PROBLEM:', folder_name, 'has no kelp'\n",
    "        \n",
    "print 'done'\n",
    "time2 = time.time()\n",
    "print 'took %f seconds' % (time2 - time1)"
   ]
  },
  {
   "cell_type": "code",
   "execution_count": 8,
   "metadata": {},
   "outputs": [],
   "source": [
    "pixels = np.vstack(master_pixel_list)\n",
    "coords = np.vstack(master_coord_list)"
   ]
  },
  {
   "cell_type": "code",
   "execution_count": 9,
   "metadata": {},
   "outputs": [
    {
     "data": {
      "text/plain": [
       "(24018, 224)"
      ]
     },
     "execution_count": 9,
     "metadata": {},
     "output_type": "execute_result"
    }
   ],
   "source": [
    "pixels.shape"
   ]
  },
  {
   "cell_type": "code",
   "execution_count": 10,
   "metadata": {
    "collapsed": true
   },
   "outputs": [],
   "source": [
    "np.savetxt('pixels.txt',pixels)\n",
    "np.savetxt('coords.txt',coords)"
   ]
  },
  {
   "cell_type": "code",
   "execution_count": null,
   "metadata": {
    "collapsed": true
   },
   "outputs": [],
   "source": []
  }
 ],
 "metadata": {
  "anaconda-cloud": {},
  "kernelspec": {
   "display_name": "Python 2",
   "language": "python",
   "name": "python2"
  },
  "language_info": {
   "codemirror_mode": {
    "name": "ipython",
    "version": 2
   },
   "file_extension": ".py",
   "mimetype": "text/x-python",
   "name": "python",
   "nbconvert_exporter": "python",
   "pygments_lexer": "ipython2",
   "version": "2.7.13"
  }
 },
 "nbformat": 4,
 "nbformat_minor": 1
}
